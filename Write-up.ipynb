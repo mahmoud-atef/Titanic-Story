{
 "cells": [
  {
   "cell_type": "markdown",
   "metadata": {},
   "source": [
    "# Data Visualiztion in Tableau"
   ]
  },
  {
   "cell_type": "markdown",
   "metadata": {},
   "source": [
    "# Titanic Story "
   ]
  },
  {
   "cell_type": "markdown",
   "metadata": {},
   "source": [
    "\n",
    "https://public.tableau.com/profile/mahmoud6944#!/vizhome/TitanicStory_9/Story1"
   ]
  },
  {
   "cell_type": "markdown",
   "metadata": {},
   "source": [
    "# Summary"
   ]
  },
  {
   "cell_type": "markdown",
   "metadata": {},
   "source": [
    "The sinking of the RMS Titanic is one of the most infamous shipwrecks in history. On April 15, 1912, during her maiden voyage, the Titanic sank after colliding with an iceberg, killing 1502 out of 2224 passengers and crew. This sensational tragedy shocked the international community and led to better safety regulations for ships."
   ]
  },
  {
   "cell_type": "markdown",
   "metadata": {},
   "source": [
    "I investigate the titanic data to know if the age, lifing standard or gender has an effect on the death\n",
    "the rate of survivors is 0.38 % of all passengers. female survivors is 233 and male survivors is 109 the rate of female.survivors is 0.68 % of all survivors.The averge age of the survivors is 28 year"
   ]
  },
  {
   "cell_type": "markdown",
   "metadata": {},
   "source": [
    "# Design"
   ]
  },
  {
   "cell_type": "markdown",
   "metadata": {},
   "source": [
    "For visual encoding i have used blue color to denote people who did not survive the tragedy and orange color to denote people who survived.\n",
    "\n",
    "for survival by gender,I used bar chart to represent the passengers accross gender because bar charts provide great comparison view between entities.\n",
    "\n",
    "for survival by age, Age is a continuous datatype ranging from 0 to 74. I decided that histogram would be a nice representation of the distribution of the data \n",
    "\n",
    "for survival by pclass,I used bar chart to represent the passengers accross tickect class because bar charts provide great comparison view between entities."
   ]
  },
  {
   "cell_type": "markdown",
   "metadata": {},
   "source": [
    "# Feedback"
   ]
  },
  {
   "cell_type": "markdown",
   "metadata": {},
   "source": [
    "1.What does 0 and 1 mean in Survived visualization?<br>\n",
    "I replaced the 0 with dead and the 1 with alive.\n",
    "\n",
    "2.\"number of records\" label is not clear meaningful<br>\n",
    "so I changed it to Number of Titanic passengers.\n",
    "\n",
    "3.feedback from Tu Duong who is a colleague\n",
    "It looks quite good! I would replace the chart description (e.g \"number of survivors and their genders\") by a story (e.g. less than half survived, and women survived with higher proportion\"). Good luck!\n"
   ]
  },
  {
   "cell_type": "markdown",
   "metadata": {},
   "source": [
    "# Udacity FeedBack"
   ]
  },
  {
   "cell_type": "markdown",
   "metadata": {},
   "source": [
    "It might help to add an additional question to those you listed in your JNotebook to help guide you through a revision of the project: What was the profile of the passengers most likely to survive? What was the profile of the passengers least likely to survive?\n",
    "\n"
   ]
  },
  {
   "cell_type": "markdown",
   "metadata": {},
   "source": [
    "## Depending on this review"
   ]
  },
  {
   "cell_type": "markdown",
   "metadata": {},
   "source": [
    " I answer the question these questions: What was the profile of the passengers most likely to survive? What was the profile of the passengers least likely to survive? by making a clear visulaiztion.\n"
   ]
  },
  {
   "cell_type": "markdown",
   "metadata": {},
   "source": [
    "# Resources"
   ]
  },
  {
   "cell_type": "markdown",
   "metadata": {},
   "source": [
    "https://www.kaggle.com/c/titanic"
   ]
  },
  {
   "cell_type": "code",
   "execution_count": null,
   "metadata": {},
   "outputs": [],
   "source": []
  }
 ],
 "metadata": {
  "kernelspec": {
   "display_name": "Python 3",
   "language": "python",
   "name": "python3"
  },
  "language_info": {
   "codemirror_mode": {
    "name": "ipython",
    "version": 3
   },
   "file_extension": ".py",
   "mimetype": "text/x-python",
   "name": "python",
   "nbconvert_exporter": "python",
   "pygments_lexer": "ipython3",
   "version": "3.6.4"
  }
 },
 "nbformat": 4,
 "nbformat_minor": 2
}
